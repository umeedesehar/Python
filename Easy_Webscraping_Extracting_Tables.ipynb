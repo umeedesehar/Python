{
  "nbformat": 4,
  "nbformat_minor": 0,
  "metadata": {
    "colab": {
      "provenance": [],
      "authorship_tag": "ABX9TyPwPgPUVUS4jbmnJlKvVhkj",
      "include_colab_link": true
    },
    "kernelspec": {
      "name": "python3",
      "display_name": "Python 3"
    },
    "language_info": {
      "name": "python"
    }
  },
  "cells": [
    {
      "cell_type": "markdown",
      "metadata": {
        "id": "view-in-github",
        "colab_type": "text"
      },
      "source": [
        "<a href=\"https://colab.research.google.com/github/umeedesehar/Python/blob/main/Easy_Webscraping_Extracting_Tables.ipynb\" target=\"_parent\"><img src=\"https://colab.research.google.com/assets/colab-badge.svg\" alt=\"Open In Colab\"/></a>"
      ]
    },
    {
      "cell_type": "code",
      "execution_count": 1,
      "metadata": {
        "id": "nz93vu7V6AT9"
      },
      "outputs": [],
      "source": [
        "import requests\n",
        "from bs4 import BeautifulSoup\n",
        "import pandas as pd"
      ]
    },
    {
      "cell_type": "code",
      "source": [
        "url = \"https://en.wikipedia.org/wiki/List_of_allergens#Allergens\""
      ],
      "metadata": {
        "id": "vKTY6YNs6HQt"
      },
      "execution_count": 2,
      "outputs": []
    },
    {
      "cell_type": "code",
      "source": [
        "data = requests.get(url).text"
      ],
      "metadata": {
        "id": "Kg09lMl36Q3H"
      },
      "execution_count": 3,
      "outputs": []
    },
    {
      "cell_type": "code",
      "source": [
        "soup = BeautifulSoup(data, 'html5lib') #'html5lib' or 'html.parser' is the parser used by BeautifulSoup to parse the HTML content in the variable data"
      ],
      "metadata": {
        "id": "66zZgNDT6jFo"
      },
      "execution_count": 8,
      "outputs": []
    },
    {
      "cell_type": "code",
      "source": [
        "table = pd.read_html(url) #pd.readhtml() is panda's code to read tables\n",
        "table"
      ],
      "metadata": {
        "id": "8F2elm9y6wwD"
      },
      "execution_count": null,
      "outputs": []
    },
    {
      "cell_type": "code",
      "source": [
        "pandas_tables = pd.read_html(str(soup)) #str(soup): Converts the BeautifulSoup object soup into a string representation."
      ],
      "metadata": {
        "id": "kvxLEpnP7dpR"
      },
      "execution_count": 10,
      "outputs": []
    },
    {
      "cell_type": "code",
      "source": [
        "table_1 = pandas_tables[0] #Extracting 1st table\n",
        "table_1"
      ],
      "metadata": {
        "id": "dI83lEjZ7Kvs"
      },
      "execution_count": null,
      "outputs": []
    },
    {
      "cell_type": "code",
      "source": [
        "table_2 = pandas_tables[1] #Extracting 2nd table\n",
        "table_2"
      ],
      "metadata": {
        "id": "15dsAtd471NX"
      },
      "execution_count": null,
      "outputs": []
    },
    {
      "cell_type": "code",
      "source": [
        "table_3 = pandas_tables[2] #Extracting 3rd table\n",
        "table_3"
      ],
      "metadata": {
        "id": "SlInj_L48Fj9"
      },
      "execution_count": null,
      "outputs": []
    },
    {
      "cell_type": "code",
      "source": [
        "table_4 = pandas_tables[3] ##Extracting 4th table\n",
        "table_4"
      ],
      "metadata": {
        "id": "WWFRG6T58R2T"
      },
      "execution_count": null,
      "outputs": []
    },
    {
      "cell_type": "code",
      "source": [
        "table_5 = pandas_tables[4] #Extracting 5th table\n",
        "table_5"
      ],
      "metadata": {
        "id": "c81NG4vO8dWk"
      },
      "execution_count": null,
      "outputs": []
    },
    {
      "cell_type": "code",
      "source": [],
      "metadata": {
        "id": "1bFDmjCB-6oA"
      },
      "execution_count": null,
      "outputs": []
    }
  ]
}