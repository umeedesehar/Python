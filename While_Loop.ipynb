{
  "nbformat": 4,
  "nbformat_minor": 0,
  "metadata": {
    "colab": {
      "provenance": [],
      "collapsed_sections": [
        "lLe1E4i2uXbM",
        "oKztbJZcv1Ub",
        "ToI5zlDAwSG1",
        "At13T5o7wT15",
        "CA3XCDVewV3a"
      ],
      "authorship_tag": "ABX9TyOEOE4aC6/l/MM7qPFaS9jG",
      "include_colab_link": true
    },
    "kernelspec": {
      "name": "python3",
      "display_name": "Python 3"
    },
    "language_info": {
      "name": "python"
    }
  },
  "cells": [
    {
      "cell_type": "markdown",
      "metadata": {
        "id": "view-in-github",
        "colab_type": "text"
      },
      "source": [
        "<a href=\"https://colab.research.google.com/github/umeedesehar/Course10/blob/main/While_Loop.ipynb\" target=\"_parent\"><img src=\"https://colab.research.google.com/assets/colab-badge.svg\" alt=\"Open In Colab\"/></a>"
      ]
    },
    {
      "cell_type": "markdown",
      "source": [
        "# **While Loop**\n",
        "\n",
        "\n",
        "\n",
        "\n"
      ],
      "metadata": {
        "id": "KvWOU5JXVsb8"
      }
    },
    {
      "cell_type": "markdown",
      "source": [
        "# Practice"
      ],
      "metadata": {
        "id": "jwlWZ83WYon0"
      }
    },
    {
      "cell_type": "code",
      "source": [
        "# Q 1: Print numbers from 1 to 10\n",
        "# Q 2: Print numbers from 10 to 1\n",
        "# Q 3: Print multiplication of a number n\n",
        "# Q 4: Print elements of the following list using loop num = [1,4,9,16,25,36,49,64,81,100]\n",
        "# Q 5: Search for a number x in this tuple using loop num = (1,4,9,16,25,36,49,64,81,100)\n",
        "# Q 6: Use break and continue in while loop."
      ],
      "metadata": {
        "id": "p3YZHQqVYmkj"
      },
      "execution_count": null,
      "outputs": []
    },
    {
      "cell_type": "code",
      "source": [
        "# Q 1: Print numbers from 1 to 10"
      ],
      "metadata": {
        "id": "XXQ8OiqSV3GG"
      },
      "execution_count": null,
      "outputs": []
    },
    {
      "cell_type": "markdown",
      "source": [
        "### Solution 1"
      ],
      "metadata": {
        "id": "ZWbYyxqQri4D"
      }
    },
    {
      "cell_type": "code",
      "source": [
        "# Q 1: Print numbers from 1 to 10\n",
        "i = 1      #this is called the initialization\n",
        "while i <=10:    #this is the condition\n",
        "  print(i, i) # count will add the index with hello\n",
        "  i = i + 1 # updating iterator without this code our loop will be infinite\n",
        "  # print(i) either this or above i both do the same"
      ],
      "metadata": {
        "id": "bSePcFf6rdq0"
      },
      "execution_count": null,
      "outputs": []
    },
    {
      "cell_type": "markdown",
      "source": [
        "### Q 2: Q 2: Print numbers from 10 to 1"
      ],
      "metadata": {
        "id": "_pD3yAaJt8Ez"
      }
    },
    {
      "cell_type": "code",
      "source": [],
      "metadata": {
        "id": "YXHmkHcswPpy"
      },
      "execution_count": null,
      "outputs": []
    },
    {
      "cell_type": "markdown",
      "source": [
        "### Solution 2"
      ],
      "metadata": {
        "id": "lLe1E4i2uXbM"
      }
    },
    {
      "cell_type": "code",
      "source": [
        "# Q 2: Print numbers from 10 to 1\n",
        "i = 10\n",
        "while i >= 1:\n",
        "  print(i)\n",
        "  i+= -1"
      ],
      "metadata": {
        "id": "nt-RX64QqWIS"
      },
      "execution_count": null,
      "outputs": []
    },
    {
      "cell_type": "markdown",
      "source": [
        "### Q 3: Print multiplication of a number n"
      ],
      "metadata": {
        "id": "oKztbJZcv1Ub"
      }
    },
    {
      "cell_type": "code",
      "source": [],
      "metadata": {
        "id": "5BWUjpqrwcJt"
      },
      "execution_count": null,
      "outputs": []
    },
    {
      "cell_type": "markdown",
      "source": [
        "### Solution 3"
      ],
      "metadata": {
        "id": "ToI5zlDAwSG1"
      }
    },
    {
      "cell_type": "code",
      "source": [
        "# Q 3: Print multiplication of a number n\n",
        "# Solution 1\n",
        "#i = 1\n",
        "# while i <= 10:\n",
        "#   print(3*i)\n",
        "#   i += 1\n",
        "# Solution 2\n",
        "n = int(input(\"Please enter a number:\")) # you can take input by the user\n",
        "i =1\n",
        "while i <=10:\n",
        "  print(n *i)\n",
        "  i +=1\n"
      ],
      "metadata": {
        "id": "a0POWV5HwSG2"
      },
      "execution_count": null,
      "outputs": []
    },
    {
      "cell_type": "markdown",
      "source": [
        "### Q 4: Print elements of the following list using loop num = [1,4,9,16,25,36,49,64,81,100]"
      ],
      "metadata": {
        "id": "7-BWHWvhvflX"
      }
    },
    {
      "cell_type": "code",
      "source": [],
      "metadata": {
        "id": "iOkdmyyD7zb0"
      },
      "execution_count": null,
      "outputs": []
    },
    {
      "cell_type": "markdown",
      "source": [
        "### Solution 4"
      ],
      "metadata": {
        "id": "At13T5o7wT15"
      }
    },
    {
      "cell_type": "code",
      "source": [
        "# Q 4: Print elements of the following list using loop num = [1,4,9,16,25,36,49,64,81,100]\n",
        "num = [1,4,9,16,25,36,49,64,81,100]\n",
        "i = 0\n",
        "while i <len(num):\n",
        "  print(num[i])\n",
        "  i += 1"
      ],
      "metadata": {
        "id": "XJBMzcJ2wT15"
      },
      "execution_count": null,
      "outputs": []
    },
    {
      "cell_type": "markdown",
      "source": [
        "### Q 5: Search for a number x in this tuple using loop num = (1,4,9,16,25,36,49,64,81,100)\n"
      ],
      "metadata": {
        "id": "TfwgsLnzvgeh"
      }
    },
    {
      "cell_type": "code",
      "source": [],
      "metadata": {
        "id": "8xslcMKp9_2P"
      },
      "execution_count": null,
      "outputs": []
    },
    {
      "cell_type": "markdown",
      "source": [
        "### Solution 5"
      ],
      "metadata": {
        "id": "15FzbOTAwU1V"
      }
    },
    {
      "cell_type": "code",
      "source": [
        "num = (1,4,9,16,25,36,49,64,81,100, 36)\n",
        "x = 36\n",
        "i = 0\n",
        "while i < len(num):\n",
        "  print(i)\n",
        "  if(num[i] == x):\n",
        "    print('number is found at index', i)\n",
        "  i += 1\n",
        "else:\n",
        "  print('number is being searched')\n",
        ""
      ],
      "metadata": {
        "id": "98GV_4PNwU1V"
      },
      "execution_count": null,
      "outputs": []
    },
    {
      "cell_type": "markdown",
      "source": [
        "### Q 6: Use break and continue in while loop."
      ],
      "metadata": {
        "id": "Co3JfhBQvgnV"
      }
    },
    {
      "cell_type": "code",
      "source": [],
      "metadata": {
        "id": "GdjtBVVc-DHL"
      },
      "execution_count": null,
      "outputs": []
    },
    {
      "cell_type": "markdown",
      "source": [
        "### Solution 6"
      ],
      "metadata": {
        "id": "CA3XCDVewV3a"
      }
    },
    {
      "cell_type": "code",
      "source": [
        "i = 1\n",
        "while i <= 50:\n",
        "  print(i)\n",
        "  if(i == 3):\n",
        "    break\n",
        "  i += 1 #make sure this is indented or it'll not stop printing 1"
      ],
      "metadata": {
        "id": "J55iLAA5wV3a"
      },
      "execution_count": null,
      "outputs": []
    },
    {
      "cell_type": "markdown",
      "source": [
        "### Continue"
      ],
      "metadata": {
        "id": "fwJ9tgfy_r0R"
      }
    },
    {
      "cell_type": "code",
      "source": [],
      "metadata": {
        "id": "kUpPsgkj_01s"
      },
      "execution_count": null,
      "outputs": []
    },
    {
      "cell_type": "markdown",
      "source": [
        "### Solution 6"
      ],
      "metadata": {
        "id": "4MndNR8L_ziD"
      }
    },
    {
      "cell_type": "code",
      "source": [
        "i = 1\n",
        "while i <= 10:\n",
        "    if(i == 3):\n",
        "       i +=1\n",
        "       continue #skip\n",
        "    print(i)\n",
        "    i += 1\n",
        ""
      ],
      "metadata": {
        "colab": {
          "base_uri": "https://localhost:8080/"
        },
        "id": "AKXTXrmEtKnZ",
        "outputId": "c1635f38-4eee-49a0-9898-cf03df699525"
      },
      "execution_count": 42,
      "outputs": [
        {
          "output_type": "stream",
          "name": "stdout",
          "text": [
            "1\n",
            "2\n",
            "4\n",
            "5\n",
            "6\n",
            "7\n",
            "8\n",
            "9\n",
            "10\n"
          ]
        }
      ]
    }
  ]
}