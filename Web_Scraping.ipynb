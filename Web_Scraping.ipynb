{
  "nbformat": 4,
  "nbformat_minor": 0,
  "metadata": {
    "colab": {
      "provenance": [],
      "authorship_tag": "ABX9TyNWJhICTQLNtA+wcb52l1xk",
      "include_colab_link": true
    },
    "kernelspec": {
      "name": "python3",
      "display_name": "Python 3"
    },
    "language_info": {
      "name": "python"
    }
  },
  "cells": [
    {
      "cell_type": "markdown",
      "metadata": {
        "id": "view-in-github",
        "colab_type": "text"
      },
      "source": [
        "<a href=\"https://colab.research.google.com/github/umeedesehar/Python/blob/main/Web_Scraping.ipynb\" target=\"_parent\"><img src=\"https://colab.research.google.com/assets/colab-badge.svg\" alt=\"Open In Colab\"/></a>"
      ]
    },
    {
      "cell_type": "markdown",
      "source": [
        "# **Web Scraping**\n",
        "There are two ways to scrape a website\n",
        "1. Through APIs\n",
        "2. Through BeautifulSoup"
      ],
      "metadata": {
        "id": "Q5wyLLnnHAuC"
      }
    },
    {
      "cell_type": "markdown",
      "source": [
        "###For HTML web scraping you need two modules\n",
        "+ BeautifulSoup\n",
        "+ requests"
      ],
      "metadata": {
        "id": "kadv5nDv-sVV"
      }
    },
    {
      "cell_type": "markdown",
      "source": [
        "###**Step 1**: First you need to install BeautifulSoup4 and request"
      ],
      "metadata": {
        "id": "XtVXFzajHHJi"
      }
    },
    {
      "cell_type": "code",
      "source": [
        "pip install Beautifulsoup4\n",
        "pip install requests\n",
        "pip install html5lib"
      ],
      "metadata": {
        "colab": {
          "base_uri": "https://localhost:8080/",
          "height": 110
        },
        "id": "0O3DIDQ9HdrD",
        "outputId": "ffef7d09-1c4a-4834-887e-b076e13aa036"
      },
      "execution_count": null,
      "outputs": [
        {
          "output_type": "error",
          "ename": "SyntaxError",
          "evalue": "invalid syntax (<ipython-input-5-e6b2849cfcde>, line 1)",
          "traceback": [
            "\u001b[0;36m  File \u001b[0;32m\"<ipython-input-5-e6b2849cfcde>\"\u001b[0;36m, line \u001b[0;32m1\u001b[0m\n\u001b[0;31m    pip install Beautifulsoup4\u001b[0m\n\u001b[0m        ^\u001b[0m\n\u001b[0;31mSyntaxError\u001b[0m\u001b[0;31m:\u001b[0m invalid syntax\n"
          ]
        }
      ]
    },
    {
      "cell_type": "markdown",
      "source": [
        "### **Step 2**: Now we need to import these modules"
      ],
      "metadata": {
        "id": "t-FTtGUwJMRf"
      }
    },
    {
      "cell_type": "code",
      "source": [
        "import requests\n",
        "from bs4 import BeautifulSoup\n"
      ],
      "metadata": {
        "id": "E5XkFIdrIzFT"
      },
      "execution_count": null,
      "outputs": []
    },
    {
      "cell_type": "markdown",
      "source": [
        "### **Step 3**: Get the HTML by request.get methode"
      ],
      "metadata": {
        "id": "Qt1eGHEEKAnZ"
      }
    },
    {
      "cell_type": "code",
      "source": [
        "url = 'https://en.wikipedia.org/wiki/Alergies' #paste your website link in qoutation\n",
        "req = requests.get(url)\n",
        "htmlcontent = req.content"
      ],
      "metadata": {
        "id": "RRqPwlE8KW-W"
      },
      "execution_count": 11,
      "outputs": []
    },
    {
      "cell_type": "code",
      "source": [
        "soup1 = BeautifulSoup(req, \"html5lib\") #dont know this"
      ],
      "metadata": {
        "id": "5tS1xD4egNKg",
        "outputId": "3706fe93-f806-4953-ab8e-336f14f314e5",
        "colab": {
          "base_uri": "https://localhost:8080/",
          "height": 273
        }
      },
      "execution_count": 13,
      "outputs": [
        {
          "output_type": "error",
          "ename": "TypeError",
          "evalue": "object of type 'Response' has no len()",
          "traceback": [
            "\u001b[0;31m---------------------------------------------------------------------------\u001b[0m",
            "\u001b[0;31mTypeError\u001b[0m                                 Traceback (most recent call last)",
            "\u001b[0;32m<ipython-input-13-c2f7d0f01b47>\u001b[0m in \u001b[0;36m<cell line: 1>\u001b[0;34m()\u001b[0m\n\u001b[0;32m----> 1\u001b[0;31m \u001b[0msoup1\u001b[0m \u001b[0;34m=\u001b[0m \u001b[0mBeautifulSoup\u001b[0m\u001b[0;34m(\u001b[0m\u001b[0mreq\u001b[0m\u001b[0;34m,\u001b[0m \u001b[0;34m\"html5lib\"\u001b[0m\u001b[0;34m)\u001b[0m\u001b[0;34m\u001b[0m\u001b[0;34m\u001b[0m\u001b[0m\n\u001b[0m",
            "\u001b[0;32m/usr/local/lib/python3.10/dist-packages/bs4/__init__.py\u001b[0m in \u001b[0;36m__init__\u001b[0;34m(self, markup, features, builder, parse_only, from_encoding, exclude_encodings, element_classes, **kwargs)\u001b[0m\n\u001b[1;32m    313\u001b[0m         \u001b[0;32mif\u001b[0m \u001b[0mhasattr\u001b[0m\u001b[0;34m(\u001b[0m\u001b[0mmarkup\u001b[0m\u001b[0;34m,\u001b[0m \u001b[0;34m'read'\u001b[0m\u001b[0;34m)\u001b[0m\u001b[0;34m:\u001b[0m        \u001b[0;31m# It's a file-type object.\u001b[0m\u001b[0;34m\u001b[0m\u001b[0;34m\u001b[0m\u001b[0m\n\u001b[1;32m    314\u001b[0m             \u001b[0mmarkup\u001b[0m \u001b[0;34m=\u001b[0m \u001b[0mmarkup\u001b[0m\u001b[0;34m.\u001b[0m\u001b[0mread\u001b[0m\u001b[0;34m(\u001b[0m\u001b[0;34m)\u001b[0m\u001b[0;34m\u001b[0m\u001b[0;34m\u001b[0m\u001b[0m\n\u001b[0;32m--> 315\u001b[0;31m         elif len(markup) <= 256 and (\n\u001b[0m\u001b[1;32m    316\u001b[0m                 \u001b[0;34m(\u001b[0m\u001b[0misinstance\u001b[0m\u001b[0;34m(\u001b[0m\u001b[0mmarkup\u001b[0m\u001b[0;34m,\u001b[0m \u001b[0mbytes\u001b[0m\u001b[0;34m)\u001b[0m \u001b[0;32mand\u001b[0m \u001b[0;32mnot\u001b[0m \u001b[0;34mb'<'\u001b[0m \u001b[0;32min\u001b[0m \u001b[0mmarkup\u001b[0m\u001b[0;34m)\u001b[0m\u001b[0;34m\u001b[0m\u001b[0;34m\u001b[0m\u001b[0m\n\u001b[1;32m    317\u001b[0m                 \u001b[0;32mor\u001b[0m \u001b[0;34m(\u001b[0m\u001b[0misinstance\u001b[0m\u001b[0;34m(\u001b[0m\u001b[0mmarkup\u001b[0m\u001b[0;34m,\u001b[0m \u001b[0mstr\u001b[0m\u001b[0;34m)\u001b[0m \u001b[0;32mand\u001b[0m \u001b[0;32mnot\u001b[0m \u001b[0;34m'<'\u001b[0m \u001b[0;32min\u001b[0m \u001b[0mmarkup\u001b[0m\u001b[0;34m)\u001b[0m\u001b[0;34m\u001b[0m\u001b[0;34m\u001b[0m\u001b[0m\n",
            "\u001b[0;31mTypeError\u001b[0m: object of type 'Response' has no len()"
          ]
        }
      ]
    },
    {
      "cell_type": "markdown",
      "source": [
        "### **Step 4**: Now we parse the HTML object and request the content"
      ],
      "metadata": {
        "id": "rwiy8n2pKB5I"
      }
    },
    {
      "cell_type": "code",
      "source": [
        "soup = BeautifulSoup(htmlcontent,\"html.parser\")\n",
        "print(soup) #it will show the HTML content in structured format"
      ],
      "metadata": {
        "id": "hzpDpwycNC3G"
      },
      "execution_count": null,
      "outputs": []
    },
    {
      "cell_type": "code",
      "source": [
        "print(soup.prettify()) #will show the content in a beautiful way pretfied way"
      ],
      "metadata": {
        "id": "ZH_WwiPrOA_G"
      },
      "execution_count": null,
      "outputs": []
    },
    {
      "cell_type": "markdown",
      "source": [
        "### To get the title of the website"
      ],
      "metadata": {
        "id": "470G-3A-KCHA"
      }
    },
    {
      "cell_type": "code",
      "source": [
        "res = soup.title\n",
        "print(res.prettify())"
      ],
      "metadata": {
        "id": "MGAjcbFOOqHM"
      },
      "execution_count": null,
      "outputs": []
    },
    {
      "cell_type": "markdown",
      "source": [
        "### To get just the title without tags"
      ],
      "metadata": {
        "id": "4FXSVLvWKCM0"
      }
    },
    {
      "cell_type": "code",
      "source": [
        "print(res.get_text())"
      ],
      "metadata": {
        "id": "oQ0jarbfPH05"
      },
      "execution_count": null,
      "outputs": []
    },
    {
      "cell_type": "markdown",
      "source": [
        "### To get the content"
      ],
      "metadata": {
        "id": "asz6jFSDPFEU"
      }
    },
    {
      "cell_type": "code",
      "source": [
        "text = BeautifulSoup(req.text, 'html')\n",
        "print(text)"
      ],
      "metadata": {
        "id": "9iOr42RCmzEt"
      },
      "execution_count": null,
      "outputs": []
    },
    {
      "cell_type": "markdown",
      "source": [
        "### To get the Paragraphs"
      ],
      "metadata": {
        "id": "aYVaRQ4-0DXu"
      }
    },
    {
      "cell_type": "code",
      "source": [
        "paras = soup.find_all('p')\n",
        "# print(soup.find('p')) to get the first para\n",
        "print(paras)\n",
        "\n"
      ],
      "metadata": {
        "id": "kmoz7nSH0JbY"
      },
      "execution_count": null,
      "outputs": []
    },
    {
      "cell_type": "markdown",
      "source": [
        "### To get all the anchor tags"
      ],
      "metadata": {
        "id": "9PK2cesu0i4w"
      }
    },
    {
      "cell_type": "code",
      "source": [
        "anchor = soup.find_all('a')\n",
        "print(anchor)"
      ],
      "metadata": {
        "id": "LZ9jehqW0m-D"
      },
      "execution_count": null,
      "outputs": []
    },
    {
      "cell_type": "markdown",
      "source": [
        "### Get all the links on the page"
      ],
      "metadata": {
        "id": "MzS4PdCv2oAy"
      }
    },
    {
      "cell_type": "code",
      "source": [
        "for link in anchor:\n",
        "  print(link.get('href'))"
      ],
      "metadata": {
        "id": "W0GSH02p2r6T"
      },
      "execution_count": null,
      "outputs": []
    },
    {
      "cell_type": "markdown",
      "source": [
        "###Get classes of any element"
      ],
      "metadata": {
        "id": "gdQGUDVE1YsT"
      }
    },
    {
      "cell_type": "code",
      "source": [
        "print(soup.find('p')['class'])"
      ],
      "metadata": {
        "colab": {
          "base_uri": "https://localhost:8080/"
        },
        "id": "9wddDuVh1biS",
        "outputId": "d0e3a547-6cd8-4cd2-a89d-8d3c5b62b604"
      },
      "execution_count": null,
      "outputs": [
        {
          "output_type": "stream",
          "name": "stdout",
          "text": [
            "['mw-empty-elt']\n"
          ]
        }
      ]
    },
    {
      "cell_type": "markdown",
      "source": [
        "### To get the text from the tags/soup"
      ],
      "metadata": {
        "id": "ubDLTsvx2H9u"
      }
    },
    {
      "cell_type": "code",
      "source": [
        "print(soup.find('p').get_text())"
      ],
      "metadata": {
        "colab": {
          "base_uri": "https://localhost:8080/"
        },
        "id": "6R-zdM-r2Num",
        "outputId": "2a261ae3-80a9-46eb-878d-26eea0f741c1"
      },
      "execution_count": null,
      "outputs": [
        {
          "output_type": "stream",
          "name": "stdout",
          "text": [
            "\n",
            "\n"
          ]
        }
      ]
    },
    {
      "cell_type": "markdown",
      "source": [
        "### **Step 2**: To get the table if there is any\n",
        "1. Go the the website and inspects its elements\n",
        "2. Press Ctrl+shift+c to inpect the site by elements\n",
        "2. In the html table hover your arrow to find when the desired table highlights\n",
        "3. Copy the link and paste it in the cell\n",
        "\n",
        "\n",
        "\n"
      ],
      "metadata": {
        "id": "2xDuCyrpPFKl"
      }
    },
    {
      "cell_type": "markdown",
      "source": [
        "### **Step 2**: Now we need to import these modules"
      ],
      "metadata": {
        "id": "-mHnJGDSPFPk"
      }
    },
    {
      "cell_type": "code",
      "source": [
        "<table class= \"wikitable\" style=\"width:70%\"; float:center; font-size:90%; margin-left:15px\"> ==$0"
      ],
      "metadata": {
        "id": "GzPXADeZuIZE"
      },
      "execution_count": null,
      "outputs": []
    },
    {
      "cell_type": "code",
      "source": [
        "soup.find_all('table')[2]"
      ],
      "metadata": {
        "id": "3c1t2ndD5GHZ"
      },
      "execution_count": null,
      "outputs": []
    },
    {
      "cell_type": "code",
      "source": [
        "req.status_code"
      ],
      "metadata": {
        "id": "WOmH5JFwiqWm",
        "outputId": "ca043e39-6db2-4582-be97-9064c70f6d00",
        "colab": {
          "base_uri": "https://localhost:8080/"
        }
      },
      "execution_count": 15,
      "outputs": [
        {
          "output_type": "execute_result",
          "data": {
            "text/plain": [
              "200"
            ]
          },
          "metadata": {},
          "execution_count": 15
        }
      ]
    },
    {
      "cell_type": "markdown",
      "source": [
        "# Step"
      ],
      "metadata": {
        "id": "cdm8KQBb52iS"
      }
    }
  ]
}