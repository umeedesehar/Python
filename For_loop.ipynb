{
  "nbformat": 4,
  "nbformat_minor": 0,
  "metadata": {
    "colab": {
      "provenance": [],
      "authorship_tag": "ABX9TyOsuvLQ+Rc3Ge9avbgVO086",
      "include_colab_link": true
    },
    "kernelspec": {
      "name": "python3",
      "display_name": "Python 3"
    },
    "language_info": {
      "name": "python"
    }
  },
  "cells": [
    {
      "cell_type": "markdown",
      "metadata": {
        "id": "view-in-github",
        "colab_type": "text"
      },
      "source": [
        "<a href=\"https://colab.research.google.com/github/umeedesehar/Course10/blob/main/For_loop.ipynb\" target=\"_parent\"><img src=\"https://colab.research.google.com/assets/colab-badge.svg\" alt=\"Open In Colab\"/></a>"
      ]
    },
    {
      "cell_type": "markdown",
      "source": [
        "# **For Loop**\n",
        "\n",
        "\n",
        "\n",
        "\n"
      ],
      "metadata": {
        "id": "KvWOU5JXVsb8"
      }
    },
    {
      "cell_type": "markdown",
      "source": [
        "# Practice"
      ],
      "metadata": {
        "id": "jwlWZ83WYon0"
      }
    },
    {
      "cell_type": "code",
      "source": [
        "# Q 1: Print numbers from 1 to 10\n",
        "# Q 2: Print numbers from 10 to 1\n",
        "# Q 3: Print multiplication of a number n\n",
        "# Q 4: Print elements of the following list using loop num = [1,4,9,16,25,36,49,64,81,100]\n",
        "# Q 5: Search for a number x in this tuple using loop num = (1,4,9,16,25,36,49,64,81,100)\n",
        "# Q 6: Use break and continue in while loop."
      ],
      "metadata": {
        "id": "p3YZHQqVYmkj"
      },
      "execution_count": null,
      "outputs": []
    },
    {
      "cell_type": "code",
      "source": [
        "# Print numbers from 1-5\n",
        "nums = [1,2,3,4,5]\n",
        "for i in nums:\n",
        "  print(i)"
      ],
      "metadata": {
        "id": "aK0ifkCivEWV"
      },
      "execution_count": null,
      "outputs": []
    },
    {
      "cell_type": "code",
      "source": [
        "#searching a specific number\n",
        "num = [1,4,9,16,25,36,49,64,81,100,49]\n",
        "x = 49\n",
        "index = 0\n",
        "for i in num:\n",
        "  if(i==x):\n",
        "    print(\"number found at idex\" , index)\n",
        "  index += 1"
      ],
      "metadata": {
        "colab": {
          "base_uri": "https://localhost:8080/"
        },
        "id": "VbqYB0TRwKMm",
        "outputId": "c9fd1e4f-f1e4-4e49-f6fc-5f6345f3b13b"
      },
      "execution_count": 9,
      "outputs": [
        {
          "output_type": "stream",
          "name": "stdout",
          "text": [
            "number found at idex 6\n",
            "number found at idex 10\n"
          ]
        }
      ]
    },
    {
      "cell_type": "code",
      "source": [
        "# Q 1: Print numbers from 1 to 10"
      ],
      "metadata": {
        "id": "XXQ8OiqSV3GG"
      },
      "execution_count": null,
      "outputs": []
    },
    {
      "cell_type": "markdown",
      "source": [
        "### Solution 1"
      ],
      "metadata": {
        "id": "ZWbYyxqQri4D"
      }
    },
    {
      "cell_type": "code",
      "source": [
        "for i in range(1,11):\n",
        "  print(i)\n"
      ],
      "metadata": {
        "id": "bSePcFf6rdq0"
      },
      "execution_count": null,
      "outputs": []
    },
    {
      "cell_type": "markdown",
      "source": [
        "### Q 2: Print numbers from 10 to 1"
      ],
      "metadata": {
        "id": "_pD3yAaJt8Ez"
      }
    },
    {
      "cell_type": "code",
      "source": [],
      "metadata": {
        "id": "YXHmkHcswPpy"
      },
      "execution_count": null,
      "outputs": []
    },
    {
      "cell_type": "markdown",
      "source": [
        "### Solution 2"
      ],
      "metadata": {
        "id": "lLe1E4i2uXbM"
      }
    },
    {
      "cell_type": "code",
      "source": [
        "for i in range(10 , 0, -1):\n",
        "  print(i)"
      ],
      "metadata": {
        "id": "nt-RX64QqWIS"
      },
      "execution_count": null,
      "outputs": []
    },
    {
      "cell_type": "markdown",
      "source": [
        "### Q 3: Print multiplication of a number n"
      ],
      "metadata": {
        "id": "oKztbJZcv1Ub"
      }
    },
    {
      "cell_type": "code",
      "source": [],
      "metadata": {
        "id": "5BWUjpqrwcJt"
      },
      "execution_count": null,
      "outputs": []
    },
    {
      "cell_type": "markdown",
      "source": [
        "### Solution 3"
      ],
      "metadata": {
        "id": "ToI5zlDAwSG1"
      }
    },
    {
      "cell_type": "code",
      "source": [
        "# Solution 1\n",
        "for i in range(3, 33,3):\n",
        "  print(i)\n",
        "# Solution 2\n",
        "n = int(input(\"Enter number:\"))\n",
        "t = 1\n",
        "for i in range(1,11):\n",
        "  print(n, \"x\", t, \"=\" ,n*i)\n",
        "  t += 1"
      ],
      "metadata": {
        "id": "a0POWV5HwSG2"
      },
      "execution_count": null,
      "outputs": []
    },
    {
      "cell_type": "markdown",
      "source": [
        "[link text](https://)### Q 4: Print elements of the following list using loop num = [1,4,9,16,25,36,49,64,81,100]"
      ],
      "metadata": {
        "id": "7-BWHWvhvflX"
      }
    },
    {
      "cell_type": "markdown",
      "source": [
        "### Q 4: Find the sum of first n numbers"
      ],
      "metadata": {
        "id": "C4jqUqlm9LU3"
      }
    },
    {
      "cell_type": "code",
      "source": [],
      "metadata": {
        "id": "iOkdmyyD7zb0"
      },
      "execution_count": null,
      "outputs": []
    },
    {
      "cell_type": "markdown",
      "source": [
        "### Solution 4"
      ],
      "metadata": {
        "id": "At13T5o7wT15"
      }
    },
    {
      "cell_type": "code",
      "source": [
        "n = 5\n",
        "sum = 0\n",
        "for i in range(1,n+1):\n",
        "  sum = sum + i\n",
        "print(\"Sum of\", n, \"=\",sum)"
      ],
      "metadata": {
        "id": "XJBMzcJ2wT15"
      },
      "execution_count": null,
      "outputs": []
    },
    {
      "cell_type": "markdown",
      "source": [
        "### Q 5: Find factorial of first n numbers\n"
      ],
      "metadata": {
        "id": "TfwgsLnzvgeh"
      }
    },
    {
      "cell_type": "code",
      "source": [],
      "metadata": {
        "id": "8xslcMKp9_2P"
      },
      "execution_count": null,
      "outputs": []
    },
    {
      "cell_type": "markdown",
      "source": [
        "### Solution 5"
      ],
      "metadata": {
        "id": "15FzbOTAwU1V"
      }
    },
    {
      "cell_type": "code",
      "source": [
        "n = 5 # factorial multiplication of all 1-5 numbers\n",
        "fact = 1 # this must b other than 0 or your answer will always be 0\n",
        "for i in range (1, n+1):\n",
        "  fact *= i\n",
        "print(\"Factorial\", fact)\n",
        "\n"
      ],
      "metadata": {
        "id": "98GV_4PNwU1V"
      },
      "execution_count": null,
      "outputs": []
    },
    {
      "cell_type": "markdown",
      "source": [
        "### Q 6: Use pass in for loop"
      ],
      "metadata": {
        "id": "Co3JfhBQvgnV"
      }
    },
    {
      "cell_type": "code",
      "source": [],
      "metadata": {
        "id": "GdjtBVVc-DHL"
      },
      "execution_count": null,
      "outputs": []
    },
    {
      "cell_type": "markdown",
      "source": [
        "### Solution 6"
      ],
      "metadata": {
        "id": "CA3XCDVewV3a"
      }
    },
    {
      "cell_type": "code",
      "source": [
        "for i in range(5):\n",
        "  pass\n",
        "print(\"Pass statement will do nothing it is use to edit in future code\")"
      ],
      "metadata": {
        "id": "J55iLAA5wV3a",
        "colab": {
          "base_uri": "https://localhost:8080/"
        },
        "outputId": "79149285-8454-4512-9704-c3f845b0f910"
      },
      "execution_count": 17,
      "outputs": [
        {
          "output_type": "stream",
          "name": "stdout",
          "text": [
            "Pass statement will do nothing it is use to edit in future code\n"
          ]
        }
      ]
    },
    {
      "cell_type": "markdown",
      "source": [
        "### Continue"
      ],
      "metadata": {
        "id": "fwJ9tgfy_r0R"
      }
    },
    {
      "cell_type": "code",
      "source": [],
      "metadata": {
        "id": "kUpPsgkj_01s"
      },
      "execution_count": null,
      "outputs": []
    },
    {
      "cell_type": "markdown",
      "source": [
        "### Solution 6"
      ],
      "metadata": {
        "id": "4MndNR8L_ziD"
      }
    },
    {
      "cell_type": "code",
      "source": [
        "i = 1\n",
        "while i <= 10:\n",
        "    if(i == 3):\n",
        "       i +=1\n",
        "       continue #skip\n",
        "    print(i)\n",
        "    i += 1\n"
      ],
      "metadata": {
        "colab": {
          "base_uri": "https://localhost:8080/"
        },
        "id": "AKXTXrmEtKnZ",
        "outputId": "c1635f38-4eee-49a0-9898-cf03df699525"
      },
      "execution_count": null,
      "outputs": [
        {
          "output_type": "stream",
          "name": "stdout",
          "text": [
            "1\n",
            "2\n",
            "4\n",
            "5\n",
            "6\n",
            "7\n",
            "8\n",
            "9\n",
            "10\n"
          ]
        }
      ]
    }
  ]
}